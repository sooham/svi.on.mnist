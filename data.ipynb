{
 "cells": [
  {
   "cell_type": "code",
   "execution_count": 6,
   "id": "803f8cef",
   "metadata": {},
   "outputs": [
    {
     "name": "stderr",
     "output_type": "stream",
     "text": [
      "Matplotlib is building the font cache; this may take a moment.\n"
     ]
    }
   ],
   "source": [
    "from __future__ import absolute_import\n",
    "from __future__ import print_function\n",
    "from future.standard_library import install_aliases\n",
    "install_aliases()\n",
    "\n",
    "import autograd.numpy as np\n",
    "import os\n",
    "import gzip\n",
    "import struct\n",
    "import array\n",
    "\n",
    "import matplotlib.pyplot as plt\n",
    "import matplotlib.image"
   ]
  },
  {
   "cell_type": "code",
   "execution_count": 1,
   "id": "ed4ac502",
   "metadata": {},
   "outputs": [],
   "source": [
    "def download(url, filename):\n",
    "    ''' Downloads and saves the url contents to filename '''\n",
    "    if not os.path.exists('data'):\n",
    "        os.makedirs('data')\n",
    "    out_file = os.path.join('data', filename)\n",
    "    if not os.path.isfile(out_file):\n",
    "        urlretrieve(url, out_file)\n"
   ]
  },
  {
   "cell_type": "code",
   "execution_count": 2,
   "id": "309b5b95",
   "metadata": {},
   "outputs": [],
   "source": [
    "def mnist():\n",
    "    ''' Download mnist from Yann LeCuns site '''\n",
    "    BASE_URL = 'http://yann.lecun.com/exdb/mnist/'\n",
    "\n",
    "    def parse_labels(filename):\n",
    "        with gzip.open(filename, 'rb') as fh:\n",
    "            magic, num_data = struct.unpack(\">II\", fh.read(8))\n",
    "            return np.array(array.array(\"B\", fh.read()), dtype=np.uint8)\n",
    "\n",
    "    def parse_images(filename):\n",
    "        with gzip.open(filename, 'rb') as fh:\n",
    "            magic, num_data, rows, cols = struct.unpack(\">IIII\", fh.read(16))\n",
    "            return np.array(array.array(\"B\", fh.read()), dtype=np.uint8).reshape(num_data, rows, cols)\n",
    "\n",
    "    for filename in ['train-images-idx3-ubyte.gz',\n",
    "                     'train-labels-idx1-ubyte.gz',\n",
    "                     't10k-images-idx3-ubyte.gz',\n",
    "                     't10k-labels-idx1-ubyte.gz']:\n",
    "        download(BASE_URL + filename, filename)\n",
    "\n",
    "    train_images = parse_images('data/train-images-idx3-ubyte.gz')\n",
    "    train_labels = parse_labels('data/train-labels-idx1-ubyte.gz')\n",
    "    test_images = parse_images('data/t10k-images-idx3-ubyte.gz')\n",
    "    test_labels = parse_labels('data/t10k-labels-idx1-ubyte.gz')\n",
    "\n",
    "    return train_images, train_labels, test_images, test_labels\n"
   ]
  },
  {
   "cell_type": "code",
   "execution_count": 3,
   "id": "f6d6944b",
   "metadata": {},
   "outputs": [],
   "source": [
    "def load_mnist():\n",
    "    ''' loads the mnist dataset '''\n",
    "    partial_flatten = lambda x : np.reshape(x, (x.shape[0], np.prod(x.shape[1:])))\n",
    "    one_hot = lambda x, k: np.array(x[:, None] == np.arange(k)[None, :], dtype=int)\n",
    "    train_images, train_labels, test_images, test_labels = mnist()\n",
    "    train_images = partial_flatten(train_images) / 255.0\n",
    "    test_images  = partial_flatten(test_images)  / 255.0\n",
    "    train_labels = one_hot(train_labels, 10)\n",
    "    test_labels = one_hot(test_labels, 10)\n",
    "    N_data = train_images.shape[0]\n",
    "\n",
    "    return N_data, train_images, train_labels, test_images, test_labels\n"
   ]
  },
  {
   "cell_type": "code",
   "execution_count": 7,
   "id": "5fb647b3",
   "metadata": {},
   "outputs": [],
   "source": [
    "def plot_images(images, ax, ims_per_row=5, padding=5, digit_dimensions=(28, 28),\n",
    "                cmap=matplotlib.cm.binary, vmin=None, vmax=None):\n",
    "    \"\"\" Helps plotting (default binary) images with axes ax and number or rows and columns\n",
    "    Images should be a (N_images x pixels) matrix.\"\"\"\n",
    "    N_images = images.shape[0]\n",
    "    N_rows = np.int32(np.ceil(float(N_images) / ims_per_row))\n",
    "    pad_value = np.min(images.ravel())\n",
    "    concat_images = np.full(((digit_dimensions[0] + padding) * N_rows + padding,\n",
    "                             (digit_dimensions[1] + padding) * ims_per_row + padding), pad_value)\n",
    "    for i in range(N_images):\n",
    "        cur_image = np.reshape(images[i, :], digit_dimensions)\n",
    "        row_ix = i // ims_per_row\n",
    "        col_ix = i % ims_per_row\n",
    "        row_start = padding + (padding + digit_dimensions[0]) * row_ix\n",
    "        col_start = padding + (padding + digit_dimensions[1]) * col_ix\n",
    "        concat_images[row_start: row_start + digit_dimensions[0],\n",
    "                      col_start: col_start + digit_dimensions[1]] = cur_image\n",
    "    cax = ax.matshow(concat_images, cmap=cmap, vmin=vmin, vmax=vmax)\n",
    "    plt.xticks(np.array([]))\n",
    "    plt.yticks(np.array([]))\n",
    "    return cax\n"
   ]
  },
  {
   "cell_type": "code",
   "execution_count": 27,
   "id": "4f7c2d0a",
   "metadata": {},
   "outputs": [
    {
     "data": {
      "text/plain": [
       "dtype('float64')"
      ]
     },
     "execution_count": 27,
     "metadata": {},
     "output_type": "execute_result"
    }
   ],
   "source": [
    "N_data, train_images, train_labels, test_images, test_labels = load_mnist()\n",
    "train_images.dtype"
   ]
  },
  {
   "cell_type": "code",
   "execution_count": 28,
   "id": "0dcd75e7",
   "metadata": {},
   "outputs": [
    {
     "data": {
      "text/plain": [
       "<matplotlib.image.AxesImage at 0x132af9950>"
      ]
     },
     "execution_count": 28,
     "metadata": {},
     "output_type": "execute_result"
    },
    {
     "data": {
      "image/png": "[encoded data removed]",
      "text/plain": [
       "<Figure size 640x480 with 1 Axes>"
      ]
     },
     "metadata": {},
     "output_type": "display_data"
    }
   ],
   "source": [
    "plot_images(train_images[0:50], plt.gca())"
   ]
  },
  {
   "cell_type": "code",
   "execution_count": 26,
   "id": "2a08b23e",
   "metadata": {},
   "outputs": [
    {
     "data": {
      "text/plain": [
       "array([[0., 0., 0., ..., 0., 0., 0.],\n",
       "       [0., 0., 0., ..., 0., 0., 0.],\n",
       "       [0., 0., 0., ..., 0., 0., 0.],\n",
       "       ...,\n",
       "       [0., 0., 0., ..., 0., 0., 0.],\n",
       "       [0., 0., 0., ..., 0., 0., 0.],\n",
       "       [0., 0., 0., ..., 0., 0., 0.]], shape=(50, 784))"
      ]
     },
     "execution_count": 26,
     "metadata": {},
     "output_type": "execute_result"
    }
   ],
   "source": [
    "train_images[0:50]"
   ]
  },
  {
   "cell_type": "code",
   "execution_count": null,
   "id": "ee080a66",
   "metadata": {},
   "outputs": [],
   "source": []
  }
 ],
 "metadata": {
  "kernelspec": {
   "display_name": ".venv",
   "language": "python",
   "name": "python3"
  },
  "language_info": {
   "codemirror_mode": {
    "name": "ipython",
    "version": 3
   },
   "file_extension": ".py",
   "mimetype": "text/x-python",
   "name": "python",
   "nbconvert_exporter": "python",
   "pygments_lexer": "ipython3",
   "version": "3.13.7"
  }
 },
 "nbformat": 4,
 "nbformat_minor": 5
}
